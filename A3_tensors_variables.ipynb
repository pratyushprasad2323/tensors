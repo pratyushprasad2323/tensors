{
  "nbformat": 4,
  "nbformat_minor": 0,
  "metadata": {
    "colab": {
      "name": "A3_tensors_variables.ipynb",
      "provenance": [],
      "collapsed_sections": [],
      "authorship_tag": "ABX9TyOxxNdh6B+XBnycaVBeI2o4",
      "include_colab_link": true
    },
    "kernelspec": {
      "name": "python3",
      "display_name": "Python 3"
    },
    "language_info": {
      "name": "python"
    },
    "accelerator": "GPU",
    "gpuClass": "standard"
  },
  "cells": [
    {
      "cell_type": "markdown",
      "metadata": {
        "id": "view-in-github",
        "colab_type": "text"
      },
      "source": [
        "<a href=\"https://colab.research.google.com/github/pratyushprasad2323/tensors/blob/main/A3_tensors_variables.ipynb\" target=\"_parent\"><img src=\"https://colab.research.google.com/assets/colab-badge.svg\" alt=\"Open In Colab\"/></a>"
      ]
    },
    {
      "cell_type": "markdown",
      "source": [
        "# INTRODUCTION TO VARIABLES\n",
        "\n",
        "a variable of tensor flow can be manipulated through programmes easily. to create a variable we have to type tf.Variable. \n",
        "\n",
        "Variables are created and tracked via the tf.Variable class. A tf.Variable represents a tensor whose value can be changed by running operations on it. Specific ops allow you to read and modify the values of this tensor."
      ],
      "metadata": {
        "id": "9P5_IK3TNOV5"
      }
    },
    {
      "cell_type": "markdown",
      "source": [
        "## CREATING A VARIABLE"
      ],
      "metadata": {
        "id": "Ed-85dt9P77k"
      }
    },
    {
      "cell_type": "code",
      "execution_count": 1,
      "metadata": {
        "id": "48Iu4z3gMtue"
      },
      "outputs": [],
      "source": [
        "import tensorflow as tf\n",
        "import numpy as np"
      ]
    },
    {
      "cell_type": "code",
      "source": [
        "a=tf.constant([[1,2,3],[2,3,4]])\n",
        "b=tf.Variable(a)\n",
        "c=tf.Variable([True,False,True])\n",
        "d=tf.Variable([1+2j,3+4j])"
      ],
      "metadata": {
        "id": "q32MPlZdN8Qj"
      },
      "execution_count": 2,
      "outputs": []
    },
    {
      "cell_type": "code",
      "source": [
        "print(b.shape)\n",
        "print(b.dtype)\n",
        "print(b.numpy())"
      ],
      "metadata": {
        "colab": {
          "base_uri": "https://localhost:8080/"
        },
        "id": "FcxUpX6FN8TM",
        "outputId": "4737e608-1fb2-4276-8393-f323625ec50f"
      },
      "execution_count": 3,
      "outputs": [
        {
          "output_type": "stream",
          "name": "stdout",
          "text": [
            "(2, 3)\n",
            "<dtype: 'int32'>\n",
            "[[1 2 3]\n",
            " [2 3 4]]\n"
          ]
        }
      ]
    },
    {
      "cell_type": "code",
      "source": [
        "print(b)\n",
        "print(tf.convert_to_tensor(b))\n",
        "print(tf.math.argmax(b))"
      ],
      "metadata": {
        "colab": {
          "base_uri": "https://localhost:8080/"
        },
        "id": "35ji6plmN8V4",
        "outputId": "a8aea6b2-267d-41e3-9a65-119e4de41a3b"
      },
      "execution_count": 4,
      "outputs": [
        {
          "output_type": "stream",
          "name": "stdout",
          "text": [
            "<tf.Variable 'Variable:0' shape=(2, 3) dtype=int32, numpy=\n",
            "array([[1, 2, 3],\n",
            "       [2, 3, 4]], dtype=int32)>\n",
            "tf.Tensor(\n",
            "[[1 2 3]\n",
            " [2 3 4]], shape=(2, 3), dtype=int32)\n",
            "tf.Tensor([1 1 1], shape=(3,), dtype=int64)\n"
          ]
        }
      ]
    },
    {
      "cell_type": "code",
      "source": [
        "# checking if the assign keyword work if the size changes\n",
        "a=tf.Variable([2.0,3.0])\n",
        "print(a)\n",
        "a.assign([1,2]) \n",
        "print(a)\n",
        "try:\n",
        "  a.assign([1.0, 2.0, 3.0])\n",
        "  print(a)\n",
        "except Exception as e:\n",
        "  print(f\"{type(e).__name__}: {e}\")\n",
        "  print(a)"
      ],
      "metadata": {
        "colab": {
          "base_uri": "https://localhost:8080/"
        },
        "id": "mZbyRVP_N8Yf",
        "outputId": "70bd7d75-cc2f-475e-967e-7631bc9e75c4"
      },
      "execution_count": 5,
      "outputs": [
        {
          "output_type": "stream",
          "name": "stdout",
          "text": [
            "<tf.Variable 'Variable:0' shape=(2,) dtype=float32, numpy=array([2., 3.], dtype=float32)>\n",
            "<tf.Variable 'Variable:0' shape=(2,) dtype=float32, numpy=array([1., 2.], dtype=float32)>\n",
            "ValueError: Cannot assign value to variable ' Variable:0': Shape mismatch.The variable shape (2,), and the assigned value shape (3,) are incompatible.\n",
            "<tf.Variable 'Variable:0' shape=(2,) dtype=float32, numpy=array([1., 2.], dtype=float32)>\n"
          ]
        }
      ]
    },
    {
      "cell_type": "code",
      "source": [
        "# basic operation of addition and subtraction\n",
        "a=tf.Variable([1,2,3])\n",
        "b=tf.Variable(a)\n",
        "\n",
        "a.assign([2,3,4])\n",
        "\n",
        "print(a.numpy())\n",
        "print(b.numpy())\n",
        "\n",
        "print(a.assign_add([5,6,8]).numpy())\n",
        "print(a.assign_sub([4,5,9]).numpy())"
      ],
      "metadata": {
        "colab": {
          "base_uri": "https://localhost:8080/"
        },
        "id": "fEWOibJDN8bV",
        "outputId": "91108cbe-4b7f-44cd-d101-298fc871bfed"
      },
      "execution_count": 6,
      "outputs": [
        {
          "output_type": "stream",
          "name": "stdout",
          "text": [
            "[2 3 4]\n",
            "[1 2 3]\n",
            "[ 7  9 12]\n",
            "[3 4 3]\n"
          ]
        }
      ]
    },
    {
      "cell_type": "markdown",
      "source": [
        "## LIFECYCLE, NAMING AND WATCHIN\n",
        "\n",
        "In python based TF, tf.Variable instance have the same lifecycle as other python objects. variable names are preserved when saving and loading models. by default variables in models will acquire unique variable names automatically"
      ],
      "metadata": {
        "id": "oUf_03BKQAd1"
      }
    },
    {
      "cell_type": "code",
      "source": [
        "a=tf.Variable([2,5,8,3],dtype='float32')\n",
        "b=tf.Variable(a,name='var')\n",
        "c=tf.Variable(a+1,name='var')\n",
        "print(b==c)"
      ],
      "metadata": {
        "colab": {
          "base_uri": "https://localhost:8080/"
        },
        "id": "iUqSvuGLN8d_",
        "outputId": "ca6a0024-96c5-489a-b13b-e02d98418038"
      },
      "execution_count": 7,
      "outputs": [
        {
          "output_type": "stream",
          "name": "stdout",
          "text": [
            "tf.Tensor([False False False False], shape=(4,), dtype=bool)\n"
          ]
        }
      ]
    },
    {
      "cell_type": "markdown",
      "source": [
        "## PLACING VARIABLES AND TENSORS\n",
        "\n",
        "For better performance, TF will attempt to place tensors and variables on the fastest device compatible with its dtype. this means most variables are placed on a GPU."
      ],
      "metadata": {
        "id": "UeS91r0JRfZG"
      }
    },
    {
      "cell_type": "code",
      "source": [
        "# using only CPU for computation\n",
        "with tf.device('CPU:0'):\n",
        "  a=tf.Variable([[1.0,2.0,3.0],[4.0,5.0,6.0]])\n",
        "  b=tf.constant([[1.0,2.0],[3.0,4.0],[5.0,6.0]])\n",
        "  c=tf.matmul(a,b)\n",
        "print(c)"
      ],
      "metadata": {
        "id": "zzVttbeHN8jO",
        "colab": {
          "base_uri": "https://localhost:8080/"
        },
        "outputId": "5b46ab99-c81c-4f70-e635-64d03c7ae290"
      },
      "execution_count": 8,
      "outputs": [
        {
          "output_type": "stream",
          "name": "stdout",
          "text": [
            "tf.Tensor(\n",
            "[[22. 28.]\n",
            " [49. 64.]], shape=(2, 2), dtype=float32)\n"
          ]
        }
      ]
    },
    {
      "cell_type": "code",
      "source": [
        "# using CPU and GPU for computation\n",
        "with tf.device('CPU:0'):\n",
        "  a=tf.Variable([[1.0,2.0,3.0],[4.0,5.0,6.0]])\n",
        "  b=tf.Variable([[1.0,2.0,3.0]])\n",
        "with tf.device('GPU:0'):\n",
        "  k=a*b\n",
        "\n",
        "print(k)"
      ],
      "metadata": {
        "id": "CGYYFt00N8ll",
        "colab": {
          "base_uri": "https://localhost:8080/"
        },
        "outputId": "eae4f085-3321-4af5-c1c9-8a5cd25b6695"
      },
      "execution_count": 9,
      "outputs": [
        {
          "output_type": "stream",
          "name": "stdout",
          "text": [
            "tf.Tensor(\n",
            "[[ 1.  4.  9.]\n",
            " [ 4. 10. 18.]], shape=(2, 3), dtype=float32)\n"
          ]
        }
      ]
    },
    {
      "cell_type": "code",
      "source": [
        ""
      ],
      "metadata": {
        "id": "YXxjj2hPN8pE"
      },
      "execution_count": 9,
      "outputs": []
    }
  ]
}