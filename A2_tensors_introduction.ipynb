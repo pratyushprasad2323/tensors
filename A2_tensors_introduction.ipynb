{
  "nbformat": 4,
  "nbformat_minor": 0,
  "metadata": {
    "colab": {
      "name": "A2_tensors_introduction.ipynb",
      "provenance": [],
      "collapsed_sections": [],
      "authorship_tag": "ABX9TyNuKwGNWZpPu2jXPexiXZQt",
      "include_colab_link": true
    },
    "kernelspec": {
      "name": "python3",
      "display_name": "Python 3"
    },
    "language_info": {
      "name": "python"
    }
  },
  "cells": [
    {
      "cell_type": "markdown",
      "metadata": {
        "id": "view-in-github",
        "colab_type": "text"
      },
      "source": [
        "<a href=\"https://colab.research.google.com/github/pratyushprasad2323/tensors/blob/main/A2_tensors_introduction.ipynb\" target=\"_parent\"><img src=\"https://colab.research.google.com/assets/colab-badge.svg\" alt=\"Open In Colab\"/></a>"
      ]
    },
    {
      "cell_type": "markdown",
      "source": [
        "# BASICS OF TENSOR FLOW"
      ],
      "metadata": {
        "id": "1pUJPPsreh95"
      }
    },
    {
      "cell_type": "code",
      "execution_count": 1,
      "metadata": {
        "id": "rqUV7vLdeZkV"
      },
      "outputs": [],
      "source": [
        "import tensorflow as tf\n",
        "import numpy as np"
      ]
    },
    {
      "cell_type": "code",
      "source": [
        "# making a constant\n",
        "a=tf.constant(4,dtype='float32')\n",
        "print(a)"
      ],
      "metadata": {
        "colab": {
          "base_uri": "https://localhost:8080/"
        },
        "id": "2qp0lZzVfJ1c",
        "outputId": "574f68f3-8b26-4173-abae-9a4a835fb761"
      },
      "execution_count": 2,
      "outputs": [
        {
          "output_type": "stream",
          "name": "stdout",
          "text": [
            "tf.Tensor(4.0, shape=(), dtype=float32)\n"
          ]
        }
      ]
    },
    {
      "cell_type": "code",
      "source": [
        "b=tf.constant([1.0,2,3,4])\n",
        "print(b)"
      ],
      "metadata": {
        "colab": {
          "base_uri": "https://localhost:8080/"
        },
        "id": "NN1lzTgffbla",
        "outputId": "a4f559a8-196c-4147-b093-1da23575cecb"
      },
      "execution_count": 3,
      "outputs": [
        {
          "output_type": "stream",
          "name": "stdout",
          "text": [
            "tf.Tensor([1. 2. 3. 4.], shape=(4,), dtype=float32)\n"
          ]
        }
      ]
    },
    {
      "cell_type": "code",
      "source": [
        "c=tf.constant([[1.0,2,3,4],[5,6,7,8]])\n",
        "print(c)"
      ],
      "metadata": {
        "colab": {
          "base_uri": "https://localhost:8080/"
        },
        "id": "2QC2QupWgHsK",
        "outputId": "764ad90a-b7af-4cf6-f9fc-a3e55e4dba55"
      },
      "execution_count": 4,
      "outputs": [
        {
          "output_type": "stream",
          "name": "stdout",
          "text": [
            "tf.Tensor(\n",
            "[[1. 2. 3. 4.]\n",
            " [5. 6. 7. 8.]], shape=(2, 4), dtype=float32)\n"
          ]
        }
      ]
    },
    {
      "cell_type": "code",
      "source": [
        "d=tf.constant(np.arange(27).reshape([3,3,3]))\n",
        "print(d)"
      ],
      "metadata": {
        "colab": {
          "base_uri": "https://localhost:8080/"
        },
        "id": "u5FjilGUgYNX",
        "outputId": "5ec0b7f0-300d-46b7-821e-61c14a5824d6"
      },
      "execution_count": 5,
      "outputs": [
        {
          "output_type": "stream",
          "name": "stdout",
          "text": [
            "tf.Tensor(\n",
            "[[[ 0  1  2]\n",
            "  [ 3  4  5]\n",
            "  [ 6  7  8]]\n",
            "\n",
            " [[ 9 10 11]\n",
            "  [12 13 14]\n",
            "  [15 16 17]]\n",
            "\n",
            " [[18 19 20]\n",
            "  [21 22 23]\n",
            "  [24 25 26]]], shape=(3, 3, 3), dtype=int64)\n"
          ]
        }
      ]
    },
    {
      "cell_type": "code",
      "source": [
        "# converting tensor matrice to numpy array\n",
        "print(np.array(d))"
      ],
      "metadata": {
        "colab": {
          "base_uri": "https://localhost:8080/"
        },
        "id": "2h4KeLGjgpdz",
        "outputId": "5e6b340c-7f41-4476-f0d2-2545284f97f3"
      },
      "execution_count": 6,
      "outputs": [
        {
          "output_type": "stream",
          "name": "stdout",
          "text": [
            "[[[ 0  1  2]\n",
            "  [ 3  4  5]\n",
            "  [ 6  7  8]]\n",
            "\n",
            " [[ 9 10 11]\n",
            "  [12 13 14]\n",
            "  [15 16 17]]\n",
            "\n",
            " [[18 19 20]\n",
            "  [21 22 23]\n",
            "  [24 25 26]]]\n"
          ]
        }
      ]
    },
    {
      "cell_type": "code",
      "source": [
        "d.numpy()"
      ],
      "metadata": {
        "colab": {
          "base_uri": "https://localhost:8080/"
        },
        "id": "rT6sFPpCgxkk",
        "outputId": "61c03803-6fec-48cc-bff8-04d3fe9e88e5"
      },
      "execution_count": 7,
      "outputs": [
        {
          "output_type": "execute_result",
          "data": {
            "text/plain": [
              "array([[[ 0,  1,  2],\n",
              "        [ 3,  4,  5],\n",
              "        [ 6,  7,  8]],\n",
              "\n",
              "       [[ 9, 10, 11],\n",
              "        [12, 13, 14],\n",
              "        [15, 16, 17]],\n",
              "\n",
              "       [[18, 19, 20],\n",
              "        [21, 22, 23],\n",
              "        [24, 25, 26]]])"
            ]
          },
          "metadata": {},
          "execution_count": 7
        }
      ]
    },
    {
      "cell_type": "code",
      "source": [
        "# tensor flow can contain other datatypes as well such as complex numbers and strings\n",
        "# remember while initializing any tensor matrix, it has to be rectangular\n",
        "\n",
        "# basic operations on tensor flow\n",
        "\n",
        "a=tf.Variable([[1,2,3],[4,5,6]],dtype='float32')\n",
        "b=tf.Variable([[2,3,4],[5,6,7]],dtype='float32')"
      ],
      "metadata": {
        "id": "AVO8V-EIg09D"
      },
      "execution_count": 8,
      "outputs": []
    },
    {
      "cell_type": "code",
      "source": [
        "print(tf.add(a,b))"
      ],
      "metadata": {
        "colab": {
          "base_uri": "https://localhost:8080/"
        },
        "id": "obc87gZlhpgF",
        "outputId": "80be6757-ab41-4953-a2ac-f069c04bbe1c"
      },
      "execution_count": 9,
      "outputs": [
        {
          "output_type": "stream",
          "name": "stdout",
          "text": [
            "tf.Tensor(\n",
            "[[ 3.  5.  7.]\n",
            " [ 9. 11. 13.]], shape=(2, 3), dtype=float32)\n"
          ]
        }
      ]
    },
    {
      "cell_type": "code",
      "source": [
        "print(tf.multiply(a,b))"
      ],
      "metadata": {
        "colab": {
          "base_uri": "https://localhost:8080/"
        },
        "id": "xaYGwnH_h187",
        "outputId": "d5b930ac-902f-4811-95eb-cdfc8082c087"
      },
      "execution_count": 10,
      "outputs": [
        {
          "output_type": "stream",
          "name": "stdout",
          "text": [
            "tf.Tensor(\n",
            "[[ 2.  6. 12.]\n",
            " [20. 30. 42.]], shape=(2, 3), dtype=float32)\n"
          ]
        }
      ]
    },
    {
      "cell_type": "code",
      "source": [
        "print(tf.matmul(a,tf.transpose(a)))"
      ],
      "metadata": {
        "colab": {
          "base_uri": "https://localhost:8080/"
        },
        "id": "GtnNhvabh27w",
        "outputId": "443e278e-83ff-4362-f9b2-e4e1fa1374bc"
      },
      "execution_count": 11,
      "outputs": [
        {
          "output_type": "stream",
          "name": "stdout",
          "text": [
            "tf.Tensor(\n",
            "[[14. 32.]\n",
            " [32. 77.]], shape=(2, 2), dtype=float32)\n"
          ]
        }
      ]
    },
    {
      "cell_type": "code",
      "source": [
        "print(a+b)"
      ],
      "metadata": {
        "colab": {
          "base_uri": "https://localhost:8080/"
        },
        "id": "yHzxiWUhh9vY",
        "outputId": "be550cb3-5fce-4580-c2c7-63070d6791cc"
      },
      "execution_count": 12,
      "outputs": [
        {
          "output_type": "stream",
          "name": "stdout",
          "text": [
            "tf.Tensor(\n",
            "[[ 3.  5.  7.]\n",
            " [ 9. 11. 13.]], shape=(2, 3), dtype=float32)\n"
          ]
        }
      ]
    },
    {
      "cell_type": "code",
      "source": [
        "print(a*b)"
      ],
      "metadata": {
        "colab": {
          "base_uri": "https://localhost:8080/"
        },
        "id": "3e1EmV6MiPgM",
        "outputId": "e84a6234-4c01-465a-c6f7-d3361cc9a6e6"
      },
      "execution_count": 13,
      "outputs": [
        {
          "output_type": "stream",
          "name": "stdout",
          "text": [
            "tf.Tensor(\n",
            "[[ 2.  6. 12.]\n",
            " [20. 30. 42.]], shape=(2, 3), dtype=float32)\n"
          ]
        }
      ]
    },
    {
      "cell_type": "code",
      "source": [
        "print(a@tf.transpose(a))"
      ],
      "metadata": {
        "colab": {
          "base_uri": "https://localhost:8080/"
        },
        "id": "djJ2OjeSiQkz",
        "outputId": "c2064240-5762-4567-d75f-456e4a49d873"
      },
      "execution_count": 14,
      "outputs": [
        {
          "output_type": "stream",
          "name": "stdout",
          "text": [
            "tf.Tensor(\n",
            "[[14. 32.]\n",
            " [32. 77.]], shape=(2, 2), dtype=float32)\n"
          ]
        }
      ]
    },
    {
      "cell_type": "code",
      "source": [
        "a=tf.Variable([[1,2],[3,4]],dtype='float32')\n",
        "print(a)"
      ],
      "metadata": {
        "colab": {
          "base_uri": "https://localhost:8080/"
        },
        "id": "6yybDvmEiS6d",
        "outputId": "f1d3c065-4838-4c7e-df1c-335fe37eef96"
      },
      "execution_count": 15,
      "outputs": [
        {
          "output_type": "stream",
          "name": "stdout",
          "text": [
            "<tf.Variable 'Variable:0' shape=(2, 2) dtype=float32, numpy=\n",
            "array([[1., 2.],\n",
            "       [3., 4.]], dtype=float32)>\n"
          ]
        }
      ]
    },
    {
      "cell_type": "code",
      "source": [
        "print(tf.reduce_max(a))\n",
        "print(tf.reduce_min(a))"
      ],
      "metadata": {
        "colab": {
          "base_uri": "https://localhost:8080/"
        },
        "id": "PRGWj7t_imI_",
        "outputId": "c5b3c6af-026c-4628-b4f7-d5724b0abb8f"
      },
      "execution_count": 16,
      "outputs": [
        {
          "output_type": "stream",
          "name": "stdout",
          "text": [
            "tf.Tensor(4.0, shape=(), dtype=float32)\n",
            "tf.Tensor(1.0, shape=(), dtype=float32)\n"
          ]
        }
      ]
    },
    {
      "cell_type": "code",
      "source": [
        "print(tf.math.argmax(a))"
      ],
      "metadata": {
        "colab": {
          "base_uri": "https://localhost:8080/"
        },
        "id": "5Z80zLrnirZ5",
        "outputId": "0e345acc-4a73-46ec-ffeb-624a7c4413f4"
      },
      "execution_count": 17,
      "outputs": [
        {
          "output_type": "stream",
          "name": "stdout",
          "text": [
            "tf.Tensor([1 1], shape=(2,), dtype=int64)\n"
          ]
        }
      ]
    },
    {
      "cell_type": "code",
      "source": [
        "# logistic regression logic\n",
        "print(tf.nn.softmax(a))"
      ],
      "metadata": {
        "colab": {
          "base_uri": "https://localhost:8080/"
        },
        "id": "IsmXbJ7-izy5",
        "outputId": "1b0616e8-fac4-4368-9fe2-59e440e09ed1"
      },
      "execution_count": 18,
      "outputs": [
        {
          "output_type": "stream",
          "name": "stdout",
          "text": [
            "tf.Tensor(\n",
            "[[0.26894143 0.7310586 ]\n",
            " [0.26894143 0.7310586 ]], shape=(2, 2), dtype=float32)\n"
          ]
        }
      ]
    },
    {
      "cell_type": "code",
      "source": [
        "a=tf.Variable([[1,2,10],[4,3,2],[3,5,4]],dtype='float32')\n",
        "print(tf.nn.softmax(a))"
      ],
      "metadata": {
        "colab": {
          "base_uri": "https://localhost:8080/"
        },
        "id": "io7Dy-akKamD",
        "outputId": "08789f1a-ac1c-4bca-b134-ea3559f554ad"
      },
      "execution_count": 19,
      "outputs": [
        {
          "output_type": "stream",
          "name": "stdout",
          "text": [
            "tf.Tensor(\n",
            "[[1.2335321e-04 3.3530878e-04 9.9954140e-01]\n",
            " [6.6524094e-01 2.4472848e-01 9.0030573e-02]\n",
            " [9.0030566e-02 6.6524088e-01 2.4472845e-01]], shape=(3, 3), dtype=float32)\n"
          ]
        }
      ]
    },
    {
      "cell_type": "markdown",
      "source": [
        "## ABOUT SHAPES\n",
        "1. shape - the length of each axis\n",
        "2. rank - number of tensor axis, scalar has 0\n",
        "3. axis - dimension of the tensor\n",
        "4. size - total number of items in the tensor"
      ],
      "metadata": {
        "id": "J222a3-kkMO-"
      }
    },
    {
      "cell_type": "code",
      "source": [
        "a_rank_4=tf.Variable(np.arange(100).reshape([2,5,2,5]))\n",
        "print(a_rank_4)"
      ],
      "metadata": {
        "colab": {
          "base_uri": "https://localhost:8080/"
        },
        "id": "2i2LiOPojN66",
        "outputId": "143f5236-ad9b-4baf-8c14-760c4af9413d"
      },
      "execution_count": 20,
      "outputs": [
        {
          "output_type": "stream",
          "name": "stdout",
          "text": [
            "<tf.Variable 'Variable:0' shape=(2, 5, 2, 5) dtype=int64, numpy=\n",
            "array([[[[ 0,  1,  2,  3,  4],\n",
            "         [ 5,  6,  7,  8,  9]],\n",
            "\n",
            "        [[10, 11, 12, 13, 14],\n",
            "         [15, 16, 17, 18, 19]],\n",
            "\n",
            "        [[20, 21, 22, 23, 24],\n",
            "         [25, 26, 27, 28, 29]],\n",
            "\n",
            "        [[30, 31, 32, 33, 34],\n",
            "         [35, 36, 37, 38, 39]],\n",
            "\n",
            "        [[40, 41, 42, 43, 44],\n",
            "         [45, 46, 47, 48, 49]]],\n",
            "\n",
            "\n",
            "       [[[50, 51, 52, 53, 54],\n",
            "         [55, 56, 57, 58, 59]],\n",
            "\n",
            "        [[60, 61, 62, 63, 64],\n",
            "         [65, 66, 67, 68, 69]],\n",
            "\n",
            "        [[70, 71, 72, 73, 74],\n",
            "         [75, 76, 77, 78, 79]],\n",
            "\n",
            "        [[80, 81, 82, 83, 84],\n",
            "         [85, 86, 87, 88, 89]],\n",
            "\n",
            "        [[90, 91, 92, 93, 94],\n",
            "         [95, 96, 97, 98, 99]]]])>\n"
          ]
        }
      ]
    },
    {
      "cell_type": "code",
      "source": [
        "print('data type of every element : ',a_rank_4.dtype)   # datatype\n",
        "print('number of axis : ',tf.rank(a_rank_4))            # rank\n",
        "print('shape of tensor : ',a_rank_4.shape)              # shape\n",
        "print('matrix as numpy array \\n', a_rank_4.numpy())     # tensor to numpy"
      ],
      "metadata": {
        "colab": {
          "base_uri": "https://localhost:8080/"
        },
        "id": "ALEoJH4Yk2_h",
        "outputId": "410034fd-749d-4eab-8d21-95b631858ec7"
      },
      "execution_count": 21,
      "outputs": [
        {
          "output_type": "stream",
          "name": "stdout",
          "text": [
            "data type of every element :  <dtype: 'int64'>\n",
            "number of axis :  tf.Tensor(4, shape=(), dtype=int32)\n",
            "shape of tensor :  (2, 5, 2, 5)\n",
            "matrix as numpy array \n",
            " [[[[ 0  1  2  3  4]\n",
            "   [ 5  6  7  8  9]]\n",
            "\n",
            "  [[10 11 12 13 14]\n",
            "   [15 16 17 18 19]]\n",
            "\n",
            "  [[20 21 22 23 24]\n",
            "   [25 26 27 28 29]]\n",
            "\n",
            "  [[30 31 32 33 34]\n",
            "   [35 36 37 38 39]]\n",
            "\n",
            "  [[40 41 42 43 44]\n",
            "   [45 46 47 48 49]]]\n",
            "\n",
            "\n",
            " [[[50 51 52 53 54]\n",
            "   [55 56 57 58 59]]\n",
            "\n",
            "  [[60 61 62 63 64]\n",
            "   [65 66 67 68 69]]\n",
            "\n",
            "  [[70 71 72 73 74]\n",
            "   [75 76 77 78 79]]\n",
            "\n",
            "  [[80 81 82 83 84]\n",
            "   [85 86 87 88 89]]\n",
            "\n",
            "  [[90 91 92 93 94]\n",
            "   [95 96 97 98 99]]]]\n"
          ]
        }
      ]
    },
    {
      "cell_type": "code",
      "source": [
        "# slicing\n",
        "print(a_rank_4[1])\n",
        "print(a_rank_4[:,1])\n",
        "print(a_rank_4[:,:,1])\n",
        "print(a_rank_4[:,:,:,1])"
      ],
      "metadata": {
        "id": "NIYyiX_kloPy",
        "colab": {
          "base_uri": "https://localhost:8080/"
        },
        "outputId": "0201bbe3-10ab-43be-a050-8488b99ac995"
      },
      "execution_count": 22,
      "outputs": [
        {
          "output_type": "stream",
          "name": "stdout",
          "text": [
            "tf.Tensor(\n",
            "[[[50 51 52 53 54]\n",
            "  [55 56 57 58 59]]\n",
            "\n",
            " [[60 61 62 63 64]\n",
            "  [65 66 67 68 69]]\n",
            "\n",
            " [[70 71 72 73 74]\n",
            "  [75 76 77 78 79]]\n",
            "\n",
            " [[80 81 82 83 84]\n",
            "  [85 86 87 88 89]]\n",
            "\n",
            " [[90 91 92 93 94]\n",
            "  [95 96 97 98 99]]], shape=(5, 2, 5), dtype=int64)\n",
            "tf.Tensor(\n",
            "[[[10 11 12 13 14]\n",
            "  [15 16 17 18 19]]\n",
            "\n",
            " [[60 61 62 63 64]\n",
            "  [65 66 67 68 69]]], shape=(2, 2, 5), dtype=int64)\n",
            "tf.Tensor(\n",
            "[[[ 5  6  7  8  9]\n",
            "  [15 16 17 18 19]\n",
            "  [25 26 27 28 29]\n",
            "  [35 36 37 38 39]\n",
            "  [45 46 47 48 49]]\n",
            "\n",
            " [[55 56 57 58 59]\n",
            "  [65 66 67 68 69]\n",
            "  [75 76 77 78 79]\n",
            "  [85 86 87 88 89]\n",
            "  [95 96 97 98 99]]], shape=(2, 5, 5), dtype=int64)\n",
            "tf.Tensor(\n",
            "[[[ 1  6]\n",
            "  [11 16]\n",
            "  [21 26]\n",
            "  [31 36]\n",
            "  [41 46]]\n",
            "\n",
            " [[51 56]\n",
            "  [61 66]\n",
            "  [71 76]\n",
            "  [81 86]\n",
            "  [91 96]]], shape=(2, 5, 2), dtype=int64)\n"
          ]
        }
      ]
    },
    {
      "cell_type": "code",
      "source": [
        "# manipulating shapes\n",
        "x=tf.constant([[1],[2],[3]])\n",
        "print(x)\n",
        "print(x.shape)\n",
        "print(tf.reshape(x,[1,3]))"
      ],
      "metadata": {
        "colab": {
          "base_uri": "https://localhost:8080/"
        },
        "id": "E6yV0oXSnXMT",
        "outputId": "cc4bf9a9-77d6-4c1b-d37f-950663189042"
      },
      "execution_count": 23,
      "outputs": [
        {
          "output_type": "stream",
          "name": "stdout",
          "text": [
            "tf.Tensor(\n",
            "[[1]\n",
            " [2]\n",
            " [3]], shape=(3, 1), dtype=int32)\n",
            "(3, 1)\n",
            "tf.Tensor([[1 2 3]], shape=(1, 3), dtype=int32)\n"
          ]
        }
      ]
    },
    {
      "cell_type": "markdown",
      "source": [
        "## MORE ON DTYPES "
      ],
      "metadata": {
        "id": "PPM8Xd6toVqi"
      }
    },
    {
      "cell_type": "code",
      "source": [
        "# changing the datatype of the variable\n",
        "a=tf.Variable([1.414,2.731,3.141],dtype='float64')      \n",
        "b=tf.Variable([1.000,1.414,1.731],dtype='float16')\n",
        "c=tf.Variable([1,3,5],dtype=tf.uint8)\n",
        "print(a,'\\n',b,'\\n',c)"
      ],
      "metadata": {
        "colab": {
          "base_uri": "https://localhost:8080/"
        },
        "id": "tH3sa9cFn5No",
        "outputId": "53ae2eed-f9dd-4201-a93b-fdf139874aea"
      },
      "execution_count": 24,
      "outputs": [
        {
          "output_type": "stream",
          "name": "stdout",
          "text": [
            "<tf.Variable 'Variable:0' shape=(3,) dtype=float64, numpy=array([1.414, 2.731, 3.141])> \n",
            " <tf.Variable 'Variable:0' shape=(3,) dtype=float16, numpy=array([1.   , 1.414, 1.731], dtype=float16)> \n",
            " <tf.Variable 'Variable:0' shape=(3,) dtype=uint8, numpy=array([1, 3, 5], dtype=uint8)>\n"
          ]
        }
      ]
    },
    {
      "cell_type": "markdown",
      "source": [
        "## BROADCASTING\n",
        "\n",
        "under certain conditions, smaller tensors are stretched automatically to fit larger tensor when running combined operation on them."
      ],
      "metadata": {
        "id": "Ve20A7MmpWth"
      }
    },
    {
      "cell_type": "code",
      "source": [
        "x=tf.Variable([[1,2,3],[2,3,4],[3,4,5]],dtype='float32')\n",
        "y=tf.Variable(3,dtype='float32')\n",
        "print(tf.multiply(x,y))\n",
        "print(tf.add(x,y))\n",
        "z=tf.Variable(np.array([1,2,3]).reshape(3,-1))\n",
        "print(z)"
      ],
      "metadata": {
        "colab": {
          "base_uri": "https://localhost:8080/"
        },
        "id": "SUlGkumXoEs3",
        "outputId": "05bc9d20-19e8-4a78-f116-f73e082097ac"
      },
      "execution_count": 25,
      "outputs": [
        {
          "output_type": "stream",
          "name": "stdout",
          "text": [
            "tf.Tensor(\n",
            "[[ 3.  6.  9.]\n",
            " [ 6.  9. 12.]\n",
            " [ 9. 12. 15.]], shape=(3, 3), dtype=float32)\n",
            "tf.Tensor(\n",
            "[[4. 5. 6.]\n",
            " [5. 6. 7.]\n",
            " [6. 7. 8.]], shape=(3, 3), dtype=float32)\n",
            "<tf.Variable 'Variable:0' shape=(3, 1) dtype=int64, numpy=\n",
            "array([[1],\n",
            "       [2],\n",
            "       [3]])>\n"
          ]
        }
      ]
    },
    {
      "cell_type": "code",
      "source": [
        "x_stretch=tf.constant([[1,1,1,1],[2,2,2,2],[3,3,3,3]])\n",
        "y_stretch=tf.constant([[1,2,3,4],[1,2,3,4],[1,2,3,4]])\n",
        "print(x_stretch*y_stretch)"
      ],
      "metadata": {
        "colab": {
          "base_uri": "https://localhost:8080/"
        },
        "id": "ret1e8BkrMAE",
        "outputId": "83f6176c-6ad1-46f6-bce8-a54ea838dd67"
      },
      "execution_count": 26,
      "outputs": [
        {
          "output_type": "stream",
          "name": "stdout",
          "text": [
            "tf.Tensor(\n",
            "[[ 1  2  3  4]\n",
            " [ 2  4  6  8]\n",
            " [ 3  6  9 12]], shape=(3, 4), dtype=int32)\n"
          ]
        }
      ]
    },
    {
      "cell_type": "markdown",
      "source": [
        "## RAGGED TENSORS\n",
        "\n",
        "they are tensors with variable number of elements in its axis."
      ],
      "metadata": {
        "id": "PZ6czCkotCCN"
      }
    },
    {
      "cell_type": "code",
      "source": [
        "ragged_list=[[0,1,2,3],[4,5],[6,7,8],[9]]\n",
        "try:\n",
        "  tensor=tf.constant(ragged_list)\n",
        "except Exception as e:\n",
        "  print(f\"{type(e).__name__}: {e}\")"
      ],
      "metadata": {
        "colab": {
          "base_uri": "https://localhost:8080/"
        },
        "id": "GYndUVKstelj",
        "outputId": "88895123-f27d-4a75-9e2b-b20d2d34a3f7"
      },
      "execution_count": 27,
      "outputs": [
        {
          "output_type": "stream",
          "name": "stdout",
          "text": [
            "ValueError: Can't convert non-rectangular Python sequence to Tensor.\n"
          ]
        }
      ]
    },
    {
      "cell_type": "code",
      "source": [
        "# initializing a ragged tensor\n",
        "a=tf.ragged.constant(ragged_list)\n",
        "print(a)\n",
        "print(a.shape)"
      ],
      "metadata": {
        "colab": {
          "base_uri": "https://localhost:8080/"
        },
        "id": "BahNDQN3tyAR",
        "outputId": "d4648ecf-9749-4098-9f25-0fd2b0b58e00"
      },
      "execution_count": 28,
      "outputs": [
        {
          "output_type": "stream",
          "name": "stdout",
          "text": [
            "<tf.RaggedTensor [[0, 1, 2, 3], [4, 5], [6, 7, 8], [9]]>\n",
            "(4, None)\n"
          ]
        }
      ]
    },
    {
      "cell_type": "markdown",
      "source": [
        "STRING TENSORS"
      ],
      "metadata": {
        "id": "12xslAM9t-9X"
      }
    },
    {
      "cell_type": "code",
      "source": [
        "# operations on string\n",
        "a=tf.constant('pratyush prasad')\n",
        "print(a)\n",
        "a=tf.constant(['pratyush','gupta','prasad'])\n",
        "print(a)\n",
        "a=tf.constant(['good morning','good afternoon','good evening','good night'])\n",
        "print(tf.strings.split(a,sep=\" \"))"
      ],
      "metadata": {
        "colab": {
          "base_uri": "https://localhost:8080/"
        },
        "id": "vpzPUYpStyfF",
        "outputId": "84edfd79-bf34-4792-a8e8-f7aec82985e7"
      },
      "execution_count": 29,
      "outputs": [
        {
          "output_type": "stream",
          "name": "stdout",
          "text": [
            "tf.Tensor(b'pratyush prasad', shape=(), dtype=string)\n",
            "tf.Tensor([b'pratyush' b'gupta' b'prasad'], shape=(3,), dtype=string)\n",
            "<tf.RaggedTensor [[b'good', b'morning'],\n",
            " [b'good', b'afternoon'],\n",
            " [b'good', b'evening'],\n",
            " [b'good', b'night']]>\n"
          ]
        }
      ]
    },
    {
      "cell_type": "code",
      "source": [
        "a=tf.strings.bytes_split(tf.constant('BHOOT BABA 2323 .'))\n",
        "a=tf.io.decode_raw(tf.constant('BHOOT BABA 2323 .'),tf.uint8)\n",
        "print(\"Byte strings:\",a)\n",
        "print(\"Bytes:\",b)"
      ],
      "metadata": {
        "colab": {
          "base_uri": "https://localhost:8080/"
        },
        "id": "OOtNbJ_ftyjh",
        "outputId": "c738a3cd-e303-48d0-9d66-5c673e85b895"
      },
      "execution_count": 30,
      "outputs": [
        {
          "output_type": "stream",
          "name": "stdout",
          "text": [
            "Byte strings: tf.Tensor([66 72 79 79 84 32 66 65 66 65 32 50 51 50 51 32 46], shape=(17,), dtype=uint8)\n",
            "Bytes: <tf.Variable 'Variable:0' shape=(3,) dtype=float16, numpy=array([1.   , 1.414, 1.731], dtype=float16)>\n"
          ]
        }
      ]
    },
    {
      "cell_type": "code",
      "source": [
        "# sparse tensor\n",
        "sparse_tensor=tf.sparse.SparseTensor(indices=[[0,0],[1,2]],values=[1,2],dense_shape=[3, 4])\n",
        "print(sparse_tensor)\n",
        "print(tf.sparse.to_dense(sparse_tensor))"
      ],
      "metadata": {
        "colab": {
          "base_uri": "https://localhost:8080/"
        },
        "id": "vQZ_QOobtyn1",
        "outputId": "b5553241-4c4d-42ca-8045-4c26cef2f5c1"
      },
      "execution_count": 31,
      "outputs": [
        {
          "output_type": "stream",
          "name": "stdout",
          "text": [
            "SparseTensor(indices=tf.Tensor(\n",
            "[[0 0]\n",
            " [1 2]], shape=(2, 2), dtype=int64), values=tf.Tensor([1 2], shape=(2,), dtype=int32), dense_shape=tf.Tensor([3 4], shape=(2,), dtype=int64))\n",
            "tf.Tensor(\n",
            "[[1 0 0 0]\n",
            " [0 0 2 0]\n",
            " [0 0 0 0]], shape=(3, 4), dtype=int32)\n"
          ]
        }
      ]
    }
  ]
}