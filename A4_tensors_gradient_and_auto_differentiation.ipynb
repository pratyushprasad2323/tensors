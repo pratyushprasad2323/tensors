{
  "nbformat": 4,
  "nbformat_minor": 0,
  "metadata": {
    "colab": {
      "name": "A4_tensors_gradient_and_auto_differentiation.ipynb",
      "provenance": [],
      "collapsed_sections": [],
      "authorship_tag": "ABX9TyNr+bl9OcXBnFAA1syeim/4",
      "include_colab_link": true
    },
    "kernelspec": {
      "name": "python3",
      "display_name": "Python 3"
    },
    "language_info": {
      "name": "python"
    },
    "accelerator": "GPU",
    "gpuClass": "standard"
  },
  "cells": [
    {
      "cell_type": "markdown",
      "metadata": {
        "id": "view-in-github",
        "colab_type": "text"
      },
      "source": [
        "<a href=\"https://colab.research.google.com/github/pratyushprasad2323/tensors/blob/main/A4_tensors_gradient_and_auto_differentiation.ipynb\" target=\"_parent\"><img src=\"https://colab.research.google.com/assets/colab-badge.svg\" alt=\"Open In Colab\"/></a>"
      ]
    },
    {
      "cell_type": "markdown",
      "source": [
        "## INTRODUCTION TO GRADIENTS AND AUTOMATIC DIFFERENTIATION\n",
        "\n",
        "auto differentiation is useful in implementing ML algo such as back propagation for training NN."
      ],
      "metadata": {
        "id": "9hE417tjWHnM"
      }
    },
    {
      "cell_type": "code",
      "execution_count": 1,
      "metadata": {
        "id": "zf2ft8qOVhBA"
      },
      "outputs": [],
      "source": [
        "import numpy as np\n",
        "import matplotlib.pyplot as plt\n",
        "import tensorflow as tf"
      ]
    },
    {
      "cell_type": "markdown",
      "source": [
        "## COMPUTING GRADIENTS\n",
        "\n",
        "to differentiate automatically, TF needs to remember what operations happen in what order during the forward pass. then during the backward pass TF traverses this list of operations in reverse order to compute gradients.\n",
        "\n",
        "## GRADIENT TAPES\n",
        "\n",
        "tf.GradientTape is used for automatic differentiation(AD). computing the gradient of a computation with respect to some inputs, usually tf.Variables. TF records relevant operations executed inside the context of a tf.GradientTape onto a tape. it then uses that tape to compute the gradients of a recorded computation using reverse mode differentiation."
      ],
      "metadata": {
        "id": "70ltiU47XOg1"
      }
    },
    {
      "cell_type": "code",
      "source": [
        "x=tf.Variable(10,dtype='float32')\n",
        "with tf.GradientTape() as tape:\n",
        "  y=x**2-3*x+2\n",
        "diff=tape.gradient(y,x)\n",
        "print(diff.numpy())  "
      ],
      "metadata": {
        "colab": {
          "base_uri": "https://localhost:8080/"
        },
        "id": "0tFuuk-NXGb1",
        "outputId": "85c84475-78eb-48b8-99f2-44793c459cdd"
      },
      "execution_count": 2,
      "outputs": [
        {
          "output_type": "stream",
          "name": "stdout",
          "text": [
            "17.0\n"
          ]
        }
      ]
    },
    {
      "cell_type": "code",
      "source": [
        "a=tf.Variable(tf.random.normal((3,2)),name='w')\n",
        "print(a)\n",
        "b=tf.Variable(tf.zeros(2,dtype=tf.float32),name='b')\n",
        "x=[[1.,2.,3.]]\n",
        "with tf.GradientTape(persistent=True) as tape:\n",
        "  y=x@a+b\n",
        "  print('hi')\n",
        "  print(y)\n",
        "  loss=tf.reduce_mean(y**2)\n",
        "x,y=tape.gradient(loss,[a,b])\n",
        "print(x)"
      ],
      "metadata": {
        "colab": {
          "base_uri": "https://localhost:8080/"
        },
        "id": "Y0zM2DjwYNPM",
        "outputId": "bd157e14-7593-4945-973b-2867217a4133"
      },
      "execution_count": 3,
      "outputs": [
        {
          "output_type": "stream",
          "name": "stdout",
          "text": [
            "<tf.Variable 'w:0' shape=(3, 2) dtype=float32, numpy=\n",
            "array([[-0.8288095 , -1.3020223 ],\n",
            "       [-1.2617884 , -1.7088464 ],\n",
            "       [-1.1983337 ,  0.06671695]], dtype=float32)>\n",
            "hi\n",
            "tf.Tensor([[-6.9473877 -4.519564 ]], shape=(1, 2), dtype=float32)\n",
            "tf.Tensor(\n",
            "[[ -6.947387  -4.519564]\n",
            " [-13.894774  -9.039128]\n",
            " [-20.842161 -13.558693]], shape=(3, 2), dtype=float32)\n"
          ]
        }
      ]
    },
    {
      "cell_type": "markdown",
      "source": [
        "## GRADIENT WITH RESPECT TO A MODEL"
      ],
      "metadata": {
        "id": "vpdMeF2EbNTR"
      }
    },
    {
      "cell_type": "code",
      "source": [
        "layer=tf.keras.layers.Dense(2,activation='relu')\n",
        "x=tf.constant([[1.,2.,3.]])\n",
        "with tf.GradientTape() as tape:\n",
        "  # Forward pass\n",
        "  y=layer(x)\n",
        "  loss=tf.reduce_mean(y**2)\n",
        "\n",
        "# Calculate gradients with respect to every trainable variable\n",
        "grad=tape.gradient(loss, layer.trainable_variables)\n",
        "print(grad)\n",
        "\n",
        "for var,g in zip(layer.trainable_variables,grad):\n",
        "  print(f'{var.name}, shape: {g.shape}')"
      ],
      "metadata": {
        "colab": {
          "base_uri": "https://localhost:8080/"
        },
        "id": "PGUk8vPzYNSc",
        "outputId": "bb91f1a5-2a23-496d-b183-7f9c82b2a0fb"
      },
      "execution_count": 4,
      "outputs": [
        {
          "output_type": "stream",
          "name": "stdout",
          "text": [
            "[<tf.Tensor: shape=(3, 2), dtype=float32, numpy=\n",
            "array([[0., 0.],\n",
            "       [0., 0.],\n",
            "       [0., 0.]], dtype=float32)>, <tf.Tensor: shape=(2,), dtype=float32, numpy=array([0., 0.], dtype=float32)>]\n",
            "dense/kernel:0, shape: (3, 2)\n",
            "dense/bias:0, shape: (2,)\n"
          ]
        }
      ]
    },
    {
      "cell_type": "markdown",
      "source": [
        "## CONTROLLING WHAT THE TPE WATCHES\n",
        "\n",
        "the taape must know which operation to record in the forward pass . it holds reference to intermediate outputs by which unnecessary data is not recorded. the most common case involves calculating the gradient of a loss wrt all models trainable variable."
      ],
      "metadata": {
        "id": "uPOdDhjHJCrF"
      }
    },
    {
      "cell_type": "code",
      "source": [
        "x0=tf.Variable(3.0)                     # x0 is a trainable variable\n",
        "x1=tf.Variable(3.0,trainable=False)     # x1 is not a trainable variable\n",
        "x2=tf.Variable(2.0)+1.0                 # x2 is not a variable\n",
        "x3=tf.constant(3.0)                     # x3 is a constant\n",
        "with tf.GradientTape() as tape:\n",
        "  y=(x0**2)+(x1**2)+(x2**2)\n",
        "grad=tape.gradient(y,[x0,x1,x2,x3])\n",
        "\n",
        "for g in grad:\n",
        "  print(g)\n",
        "\n",
        "# the variable that is being watched\n",
        "print([var.name for var in tape.watched_variables()])"
      ],
      "metadata": {
        "colab": {
          "base_uri": "https://localhost:8080/"
        },
        "id": "R-kObwYsYNV-",
        "outputId": "d6b8508c-3fbe-4e15-a058-582b6ba3cb86"
      },
      "execution_count": 5,
      "outputs": [
        {
          "output_type": "stream",
          "name": "stdout",
          "text": [
            "tf.Tensor(6.0, shape=(), dtype=float32)\n",
            "None\n",
            "None\n",
            "None\n",
            "['Variable:0']\n"
          ]
        }
      ]
    },
    {
      "cell_type": "code",
      "source": [
        "# controlling what variable to watch\n",
        "x0=tf.Variable(3.141)\n",
        "x1=tf.Variable(1.414)\n",
        "\n",
        "with tf.GradientTape(watch_accessed_variables=False) as tape:\n",
        "  tape.watch(x1)\n",
        "  y0=tf.math.sin(x0)\n",
        "  y1=tf.nn.softplus(x1)\n",
        "  y=y0+y1\n",
        "  ys=tf.reduce_sum(y)\n",
        "grad=tape.gradient(ys,{'x0':x0,'x1':x1})\n",
        "print(grad['x0'])\n",
        "print(grad['x1'])"
      ],
      "metadata": {
        "colab": {
          "base_uri": "https://localhost:8080/"
        },
        "id": "Jmko3jY1K-Lw",
        "outputId": "4c6c6ed6-47c3-48e4-b2b7-0d32f74dc026"
      },
      "execution_count": 6,
      "outputs": [
        {
          "output_type": "stream",
          "name": "stdout",
          "text": [
            "None\n",
            "tf.Tensor(0.80439615, shape=(), dtype=float32)\n"
          ]
        }
      ]
    },
    {
      "cell_type": "code",
      "source": [
        "# some more examples\n",
        "x=tf.Variable(2.0)\n",
        "with tf.GradientTape(persistent=True) as tape:\n",
        "  tape.watch(x)\n",
        "  y=x**2\n",
        "  z=y**2\n",
        "print(tape.gradient(z,y).numpy())\n",
        "print(tape.gradient(y,x).numpy())\n",
        "print(tape.gradient(z,x).numpy())"
      ],
      "metadata": {
        "colab": {
          "base_uri": "https://localhost:8080/"
        },
        "id": "Sj8BAVAiK-Of",
        "outputId": "58f7cf83-c606-4242-ebde-3f605004ee7c"
      },
      "execution_count": 7,
      "outputs": [
        {
          "output_type": "stream",
          "name": "stdout",
          "text": [
            "8.0\n",
            "4.0\n",
            "32.0\n"
          ]
        }
      ]
    },
    {
      "cell_type": "markdown",
      "source": [
        "## PERFORMANCE OF CODE\n",
        "\n",
        "for less complexity of code the execution will not be a niticable cost\n",
        "\n",
        "Gradient tapes use memory to store intermediate results, including inputs and outputs, for use during the backwards pass.\n",
        "\n",
        "for efficiency, some operations don't need to keep their intermediate results and they are pruned during the forward pass. However, if you use persistent=True on your tape, nothing is discarded and your peak memory usage will be higher."
      ],
      "metadata": {
        "id": "uU9pC0tpQXhw"
      }
    },
    {
      "cell_type": "code",
      "source": [
        "x=tf.Variable(5.0)\n",
        "with tf.GradientTape(persistent=True) as tape:\n",
        "  y0=x**3\n",
        "  y1=1/x\n",
        "print(tape.gradient(y0,x))\n",
        "print(tape.gradient(y1,x))\n",
        "print(tape.gradient({'y0':y0,'y1':y1},x).numpy())       # finds the sum of both result"
      ],
      "metadata": {
        "colab": {
          "base_uri": "https://localhost:8080/"
        },
        "id": "Zyc5AftiK-RL",
        "outputId": "aa5d13c1-9631-4a46-bf74-a8453b122828"
      },
      "execution_count": 8,
      "outputs": [
        {
          "output_type": "stream",
          "name": "stdout",
          "text": [
            "tf.Tensor(74.99999, shape=(), dtype=float32)\n",
            "tf.Tensor(-0.04, shape=(), dtype=float32)\n",
            "74.95999\n"
          ]
        }
      ]
    },
    {
      "cell_type": "code",
      "source": [
        "x=tf.Variable(5.0)\n",
        "with tf.GradientTape(persistent=True) as tape:\n",
        "  y0=x*[2.0+3.0]\n",
        "print(tape.gradient(y0,x))"
      ],
      "metadata": {
        "colab": {
          "base_uri": "https://localhost:8080/"
        },
        "id": "CmEWGZW0K-UD",
        "outputId": "0edc600d-3a4e-499f-edbe-0cb7401e5006"
      },
      "execution_count": 9,
      "outputs": [
        {
          "output_type": "stream",
          "name": "stdout",
          "text": [
            "tf.Tensor(5.0, shape=(), dtype=float32)\n"
          ]
        }
      ]
    },
    {
      "cell_type": "code",
      "source": [
        "x=tf.linspace(-10,10,201)\n",
        "with tf.GradientTape() as tape:\n",
        "  tape.watch(x)\n",
        "  y=tf.nn.sigmoid(x)\n",
        "y_diff=tape.gradient(y,x)\n",
        "\n",
        "plt.plot(x,y,'o')\n",
        "plt.title('plotting x to y')\n",
        "plt.show()\n",
        "\n",
        "plt.plot(x,y_diff,'o')\n",
        "plt.title('plotting x to differential of y')\n",
        "plt.show()"
      ],
      "metadata": {
        "colab": {
          "base_uri": "https://localhost:8080/",
          "height": 545
        },
        "id": "u4DWAo98K-Wv",
        "outputId": "1f3882f6-fab6-45d7-e61f-53891b90b4e6"
      },
      "execution_count": 10,
      "outputs": [
        {
          "output_type": "display_data",
          "data": {
            "text/plain": [
              "<Figure size 432x288 with 1 Axes>"
            ],
            "image/png": "[encoded data removed]"
          },
          "metadata": {
            "needs_background": "light"
          }
        },
        {
          "output_type": "display_data",
          "data": {
            "text/plain": [
              "<Figure size 432x288 with 1 Axes>"
            ],
            "image/png": "[encoded data removed]"
          },
          "metadata": {
            "needs_background": "light"
          }
        }
      ]
    },
    {
      "cell_type": "code",
      "source": [
        "x=tf.constant(1.0)\n",
        "v0=tf.Variable(2.0)\n",
        "v1=tf.Variable(2.0)\n",
        "\n",
        "with tf.GradientTape(persistent=True) as tape:\n",
        "  tape.watch(x)\n",
        "  if x>0:\n",
        "    result=v0\n",
        "  else:\n",
        "    result=v1**2 \n",
        "\n",
        "dv0,dv1=tape.gradient(result,[v0,v1])\n",
        "\n",
        "print(dv0)\n",
        "print(dv1)"
      ],
      "metadata": {
        "colab": {
          "base_uri": "https://localhost:8080/"
        },
        "id": "rKGi74XsK-ZQ",
        "outputId": "a549cb8e-d50b-4a88-a671-cd6a515d57b6"
      },
      "execution_count": 11,
      "outputs": [
        {
          "output_type": "stream",
          "name": "stdout",
          "text": [
            "tf.Tensor(1.0, shape=(), dtype=float32)\n",
            "None\n"
          ]
        }
      ]
    },
    {
      "cell_type": "code",
      "source": [
        "x=tf.Variable(2.0)\n",
        "y=tf.Variable(1.0)\n",
        "for i in range(10):\n",
        "  with tf.GradientTape() as tape:\n",
        "    y=x**2\n",
        "\n",
        "  print(type(x).__name__, \":\", tape.gradient(y,x))\n",
        "  x=x+y"
      ],
      "metadata": {
        "colab": {
          "base_uri": "https://localhost:8080/"
        },
        "id": "FAlNlr0SK-cD",
        "outputId": "8510a12c-0d66-4826-a921-bf66700a178e"
      },
      "execution_count": 12,
      "outputs": [
        {
          "output_type": "stream",
          "name": "stdout",
          "text": [
            "ResourceVariable : tf.Tensor(4.0, shape=(), dtype=float32)\n",
            "EagerTensor : None\n",
            "EagerTensor : None\n",
            "EagerTensor : None\n",
            "EagerTensor : None\n",
            "EagerTensor : None\n",
            "EagerTensor : None\n",
            "EagerTensor : None\n",
            "EagerTensor : None\n",
            "EagerTensor : None\n"
          ]
        }
      ]
    },
    {
      "cell_type": "code",
      "source": [
        "# point to remember - for using gradienttape the variable must be in floating datatype\n",
        "x=tf.Variable([[1.0,2.0],[3.0,4.0]],dtype=tf.float32)\n",
        "with tf.GradientTape(persistent=True) as tape:\n",
        "  tape.watch(x)\n",
        "  x2=x**2\n",
        "  y1=np.mean(x2,axis=0)\n",
        "  y=tf.reduce_mean(y1,axis=0)\n",
        "\n",
        "print(tape.gradient(x2,x).numpy())\n",
        "print(tape.gradient(y,x))"
      ],
      "metadata": {
        "colab": {
          "base_uri": "https://localhost:8080/"
        },
        "id": "QKy6kIzuK-et",
        "outputId": "a5064e24-8bc8-4d7b-f3f8-31c21a7a2fc5"
      },
      "execution_count": 13,
      "outputs": [
        {
          "output_type": "stream",
          "name": "stdout",
          "text": [
            "[[2. 4.]\n",
            " [6. 8.]]\n",
            "None\n"
          ]
        }
      ]
    },
    {
      "cell_type": "code",
      "source": [
        "x0=tf.Variable(3.0)\n",
        "x1=tf.Variable(0.0)\n",
        "with tf.GradientTape() as tape:\n",
        "  x1.assign_add(x0)\n",
        "  y=x1**2\n",
        "print(tape.gradient(y,x0))"
      ],
      "metadata": {
        "colab": {
          "base_uri": "https://localhost:8080/"
        },
        "id": "FEin0TwhK-hX",
        "outputId": "3f9ad3ec-9c63-494b-af6d-893d3a9ea7ac"
      },
      "execution_count": 14,
      "outputs": [
        {
          "output_type": "stream",
          "name": "stdout",
          "text": [
            "None\n"
          ]
        }
      ]
    }
  ]
}